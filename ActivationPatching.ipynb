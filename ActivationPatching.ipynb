{
 "cells": [
  {
   "cell_type": "code",
   "execution_count": 3,
   "id": "c8e55ed8",
   "metadata": {},
   "outputs": [
    {
     "name": "stdout",
     "output_type": "stream",
     "text": [
      "[2024-05-08 10:08:52,582] [INFO] [real_accelerator.py:158:get_accelerator] Setting ds_accelerator to cuda (auto detect)\n"
     ]
    },
    {
     "data": {
      "application/vnd.jupyter.widget-view+json": {
       "model_id": "087ecc453e004c94b0a30386af997ac0",
       "version_major": 2,
       "version_minor": 0
      },
      "text/plain": [
       "Loading checkpoint shards:   0%|          | 0/2 [00:00<?, ?it/s]"
      ]
     },
     "metadata": {},
     "output_type": "display_data"
    }
   ],
   "source": [
    "from transformers import LlamaForCausalLM, LlamaTokenizer, LlamaConfig\n",
    "from model import InstructGLM\n",
    "from bertviz import model_view, head_view\n",
    "import torch\n",
    "import random\n",
    "import os \n",
    "import numpy as np\n",
    "\n",
    "def seed_everything(seed: int):\n",
    "    random.seed(seed)\n",
    "    os.environ['PYTHONHASHSEED'] = str(seed)\n",
    "    np.random.seed(seed)\n",
    "    torch.manual_seed(seed)\n",
    "    torch.cuda.manual_seed(seed)\n",
    "    torch.backends.cudnn.deterministic = True\n",
    "    torch.backends.cudnn.benchmark = True\n",
    "\n",
    "seed_everything(42)\n",
    "# model\n",
    "model_name = '/home/zuographgroup/zhr/model/vicuna-7b-v1.5'\n",
    "device = torch.device('cuda:1')\n",
    "tokenizer = LlamaTokenizer.from_pretrained(model_name)\n",
    "tokenizer.padding_side = 'left'\n",
    "special={'additional_special_tokens': ['<Node {}>'.format(i) for i in range(1, 21)]}   # Add a new special token as place holder\n",
    "tokenizer.add_special_tokens(special)\n",
    "config = LlamaConfig.from_pretrained(model_name)\n",
    "model = InstructGLM.from_pretrained(\n",
    "    model_name,\n",
    "    torch_dtype=torch.bfloat16, \n",
    "    config=config,\n",
    "#     use_cache=True, \n",
    "#     low_cpu_mem_usage=True,\n",
    "    device_map={\"\":device}\n",
    "    )"
   ]
  },
  {
   "cell_type": "code",
   "execution_count": 4,
   "id": "e562f495",
   "metadata": {},
   "outputs": [],
   "source": [
    "import argparse\n",
    "from model import GraphEncoder\n",
    "import numpy as np\n",
    "from circuitsvis.attention import attention_patterns\n",
    "from matplotlib import pyplot as plt\n",
    "\n",
    "parser = argparse.ArgumentParser()\n",
    "args = parser.parse_args(args=[])\n",
    "args.gnn_type = 'GraphSAGE'\n",
    "args.gnn_output = 4096\n",
    "args.num_token = 5\n",
    "args.gnn_input = 128\n",
    "args.gt_layers = 2\n",
    "args.att_d_model = 2048\n",
    "args.graph_pooling = 'sum'\n",
    "args.edge_dim = None\n",
    "args.dropout = 0.5\n",
    "args.graph_unsup = False\n",
    "args.prefix = 'graphsage_1000tp_5token_512_neg0_arxiv_linear_2_3400'\n",
    "args.dataset = 'arxiv'\n",
    "args.mask_token_list = None"
   ]
  },
  {
   "cell_type": "code",
   "execution_count": 5,
   "id": "a48cde86",
   "metadata": {},
   "outputs": [
    {
     "data": {
      "text/plain": [
       "<All keys matched successfully>"
      ]
     },
     "execution_count": 5,
     "metadata": {},
     "output_type": "execute_result"
    }
   ],
   "source": [
    "# first model\n",
    "first_model_path = './saved_model/first_model/{}_fm_{}_epoch{}_{}.pth'\n",
    "llama_embeds = model.get_input_embeddings().weight.data\n",
    "node_token=torch.zeros(110, llama_embeds.shape[1]).to(device=device, dtype=llama_embeds.dtype)\n",
    "llama_embeds=torch.cat([llama_embeds, node_token],dim=0)\n",
    "first_model = GraphEncoder(args, llama_embed=llama_embeds).to(device, dtype=torch.bfloat16)\n",
    "first_model.load_state_dict(torch.load(first_model_path.format(args.prefix, args.dataset, 0, 'end')))"
   ]
  },
  {
   "cell_type": "code",
   "execution_count": 6,
   "id": "5ff29ada",
   "metadata": {},
   "outputs": [
    {
     "name": "stdout",
     "output_type": "stream",
     "text": [
      "The paper is likely to involve \"Type 1 diabetes\" as the title specifically mentions \"cell-mediated immunity\" which is a key feature of this type of diabetes. In addition, the mention of \"end-stage renal disease\" suggests that the diabetes has progressed to a severe stage, which is more commonly seen in Type 1 diabetes than in Type 2 diabetes. Experimentally induced diabetes is not specified in the title, so it is not the most likely answer. Type 1 diabetes Type 1 diabetes\n",
      "Given a representation of a paper: <Node 1>, with the following information: \n",
      "Title: Cell-mediated immunity and biological response modifiers in insulin-dependent diabetes mellitus complicated by end-stage renal disease. \n",
      " Question: Which diabetes does this paper involve? Please directly give the most likely answer from the following diabetes: \"Type 1 diabetes\", \"Type 2 diabetes\", \"Experimentally induced diabetes\".\n",
      "Given a paper with the following information:\n",
      "Title: Cell-mediated immunity and biological response modifiers in insulin-dependent diabetes mellitus complicated by end-stage renal disease. \n",
      " Question: Which diabetes does this paper involve? Please directly give the most likely answer from the following diabetes: \"Type 1 diabetes\", \"Type 2 diabetes\", \"Experimentally induced diabetes\".\n"
     ]
    }
   ],
   "source": [
    "# 获取输入\n",
    "import pandas as pd\n",
    "from torch_geometric.data import Data, Batch\n",
    "\n",
    "add_tokens = \" \".join([f\"<Node {i}>\" for i in range (1, 1 + 5)])\n",
    "df = pd.read_json('./instruction/pubmed/mark_ans.json')\n",
    "df = pd.read_json('./instruction/pubmed/case_study.json')\n",
    "# print(df[df.mark == 2])\n",
    "idx = 0\n",
    "instruction = df.iloc[idx]\n",
    "llm_out, glm_out, real_out = instruction['llm_out'], instruction['glm_out'], instruction['output']\n",
    "print(llm_out, glm_out, real_out)\n",
    "raw_prompt = instruction['prompt']\n",
    "prompt = (raw_prompt.split('Abstract: ')[0] + 'Title: ' + raw_prompt.split('Title: ')[1])\n",
    "llm_prompt = 'Given a paper with the following information:\\n' + 'Title: ' + raw_prompt.split('Title: ')[1]\n",
    "# llm_prompt = 'Given a paper with the following information:\\n' + 'Abstract: ' + raw_prompt.split('Abstract: ')[1]\n",
    "print(prompt)\n",
    "print(llm_prompt)"
   ]
  },
  {
   "cell_type": "code",
   "execution_count": 7,
   "id": "ca6a2a62",
   "metadata": {},
   "outputs": [
    {
     "name": "stdout",
     "output_type": "stream",
     "text": [
      "USER: Given a paper with the following information:\n",
      "Title: Cell-mediated immunity and biological response modifiers in insulin-dependent diabetes mellitus complicated by end-stage renal disease. \n",
      " Question: Which diabetes does this paper involve? Please directly give the most likely answer from the following diabetes: \"Type 1 diabetes\", \"Type 2 diabetes\", \"Experimentally induced diabetes\". ASSISTANT:\n",
      "USER: Given a representation of a paper<Node 1> <Node 2> <Node 3> <Node 4> <Node 5>, with the following information: \n",
      "Title: Cell-mediated immunity and biological response modifiers in insulin-dependent diabetes mellitus complicated by end-stage renal disease. \n",
      " Question: Which diabetes does this paper involve? Please directly give the most likely answer from the following diabetes: \"Type 1 diabetes\", \"Type 2 diabetes\", \"Experimentally induced diabetes\". ASSISTANT:\n",
      "USER: Given a paper with the following information:\n",
      "Title: Cell-mediated immunity and biological response modifiers in insulin-dependent diabetes mellitus complicated by end-stage renal disease. \n",
      " Question: Which diabetes does this paper involve? Please directly give the most likely answer from the following diabetes: \"Type 1 diabetes\", \"Type 2 diabetes\", \"Experimentally induced diabetes\". ASSISTANT: Type 1 diabetes\n",
      "USER: Given a representation of a paper<Node 1> <Node 2> <Node 3> <Node 4> <Node 5>, with the following information: \n",
      "Title: Cell-mediated immunity and biological response modifiers in insulin-dependent diabetes mellitus complicated by end-stage renal disease. \n",
      " Question: Which diabetes does this paper involve? Please directly give the most likely answer from the following diabetes: \"Type 1 diabetes\", \"Type 2 diabetes\", \"Experimentally induced diabetes\". ASSISTANT: Type 1 diabetes\n"
     ]
    }
   ],
   "source": [
    "llama_prompt = f\"\"\"USER: {llm_prompt} ASSISTANT:\"\"\"\n",
    "print(llama_prompt)\n",
    "glm_prompt = f\"\"\"USER: {prompt.replace(\": <Node 1>\", add_tokens)} ASSISTANT:\"\"\"\n",
    "print(glm_prompt)\n",
    "llama_prompt_ans = f\"\"\"USER: {llm_prompt} ASSISTANT: {glm_out}\"\"\"\n",
    "print(llama_prompt_ans)\n",
    "glm_prompt_ans = f\"\"\"USER: {prompt.replace(\": <Node 1>\", add_tokens)} ASSISTANT: {glm_out}\"\"\"\n",
    "print(glm_prompt_ans)\n",
    "\n",
    "# glm_token = tokenizer.encode(glm_out+'</s>')[1:]\n",
    "# llm_token = tokenizer.encode(llm_out+'</s>')[1:]\n",
    "\n",
    "# def logits_diff(input, model, glm_token, llm_token):\n",
    "#     min_len = min(len(glm_token), len(llm_token))\n",
    "#     attn = torch.eye(min_len).bool()\n",
    "#     pred = model.lm_head(input).softmax(dim=-1)\n",
    "\n",
    "#     return pred[:, -len(glm_token)-1:-1, glm_token[:min_len]].detach().cpu().to(torch.float32)[:, attn].mean()\n",
    "#     pred[:, -len(glm_token)-1:-1, llm_token[:min_len]].detach().cpu().to(torch.float32)[:, attn].mean()\n",
    "\n",
    "glm_token = tokenizer.encode(glm_out)[1]\n",
    "llm_token = tokenizer.encode(llm_out)[1]\n",
    "\n",
    "def logits_diff(input, model, glm_token, llm_token):\n",
    "    pred = model.lm_head(input).softmax(dim=-1)\n",
    "\n",
    "    return pred[:, -1, glm_token].detach().cpu().to(torch.float32)\n",
    "    pred[:, -1, llm_token].detach().cpu().to(torch.float32)"
   ]
  },
  {
   "cell_type": "code",
   "execution_count": 8,
   "id": "4e2d5722",
   "metadata": {},
   "outputs": [
    {
     "name": "stdout",
     "output_type": "stream",
     "text": [
      "Type 1 diabetes Type 1 diabetes\n",
      "torch.Size([1, 32, 116, 116])\n",
      "tensor([0.8711])\n"
     ]
    }
   ],
   "source": [
    "final_prompt = glm_prompt_ans + '</s>'\n",
    "final_prompt = glm_prompt\n",
    "input_ids = tokenizer(\n",
    "    final_prompt,\n",
    "    return_tensors=\"pt\"\n",
    ").input_ids\n",
    "attention_mask=input_ids.ne(tokenizer.pad_token_id)\n",
    "\n",
    "graph = Data()\n",
    "graph.edge_index = torch.LongTensor(instruction['edge_index'])\n",
    "graph.edge_attr = None\n",
    "node_list = instruction['node_set']\n",
    "graph.x = torch.tensor(instruction['x'], dtype=torch.bfloat16)\n",
    "graph.lp = False\n",
    "\n",
    "is_node = (input_ids >= 32000)\n",
    "extra_num = is_node.sum()\n",
    "\n",
    "graph = Batch.from_data_list([graph])\n",
    "\n",
    "# train\n",
    "embeds = first_model(\n",
    "    input_ids=input_ids.to(device),\n",
    "    is_node=is_node.to(device),\n",
    "    graph=graph.to(device),\n",
    "    use_llm=False\n",
    ")\n",
    "results = model.g_step(in_embeds=embeds, attention_mask=attention_mask)\n",
    "# results = model.generate(input_ids.to(device), attention_mask=attention_mask)\n",
    "outputs = tokenizer.decode(results[0], skip_special_tokens=True).strip()\n",
    "print(outputs, glm_out)\n",
    "\n",
    "clean_output = model(inputs_embeds=embeds, attention_mask=attention_mask, output_attentions=True, output_hidden_states=True)\n",
    "print(clean_output['attentions'][-1].shape)\n",
    "\n",
    "clean_logits_diff = logits_diff(clean_output['hidden_states'][-1], model, glm_token, llm_token)\n",
    "print(clean_logits_diff)"
   ]
  },
  {
   "cell_type": "code",
   "execution_count": 9,
   "id": "957a176a",
   "metadata": {},
   "outputs": [
    {
     "name": "stdout",
     "output_type": "stream",
     "text": [
      "[9, 10, 11, 12, 13]\n",
      "The paper is likely to involve \"Type 1 diabetes\" as the title specifically mentions \"cell-mediated immunity\" and \"biological response modifiers,\" which are key aspects of the immune system's response in Type 1 diabetes. In contrast, Type 2 diabetes is more closely associated with insulin resistance and the role of insulin in regulating glucose metabolism, rather than immune system dysfunction. Experimentally induced diabetes typically refers to a model of diabetes induced in animals or in vitro studies, which is different from The paper is likely to involve \"Type 1 diabetes\" as the title specifically mentions \"cell-mediated immunity\" which is a key feature of this type of diabetes. In addition, the mention of \"end-stage renal disease\" suggests that the diabetes has progressed to a severe stage, which is more commonly seen in Type 1 diabetes than in Type 2 diabetes. Experimentally induced diabetes is not specified in the title, so it is not the most likely answer.\n",
      "torch.Size([1, 32, 116, 116])\n",
      "tensor([0.4121])\n"
     ]
    }
   ],
   "source": [
    "final_prompt = glm_prompt_ans + '</s>'\n",
    "final_prompt = glm_prompt\n",
    "input_ids = tokenizer(\n",
    "    final_prompt,\n",
    "    return_tensors=\"pt\"\n",
    ").input_ids\n",
    "attention_mask=input_ids.ne(tokenizer.pad_token_id)\n",
    "\n",
    "special = [\"<Node 1>\", \"<Node 2>\", \"<Node 3>\", \"<Node 4>\", \"<Node 5>\"]\n",
    "select_id = [i for i in range(len(tokenizer.tokenize(final_prompt))) if tokenizer.tokenize(final_prompt)[i] in special]\n",
    "print(select_id)\n",
    "attention_mask[:, select_id] = False\n",
    "\n",
    "is_node = (input_ids >= 32000)\n",
    "extra_num = is_node.sum()\n",
    "\n",
    "# train\n",
    "embeds = first_model(\n",
    "    input_ids=input_ids.to(device),\n",
    "    is_node=is_node.to(device),\n",
    "    graph=graph.to(device),\n",
    "    use_llm=True\n",
    ")\n",
    "results = model.g_step(in_embeds=embeds, attention_mask=attention_mask)\n",
    "# results = model.generate(input_ids.to(device), attention_mask=attention_mask)\n",
    "outputs = tokenizer.decode(results[0], skip_special_tokens=True).strip()\n",
    "print(outputs, llm_out)\n",
    "\n",
    "corrupted_output = model(inputs_embeds=embeds, attention_mask=attention_mask, output_attentions=True, output_hidden_states=True)\n",
    "print(corrupted_output['attentions'][-1].shape)\n",
    "\n",
    "corrupted_logits_diff = logits_diff(corrupted_output['hidden_states'][-1], model, glm_token, llm_token)\n",
    "print(corrupted_logits_diff)"
   ]
  },
  {
   "cell_type": "code",
   "execution_count": 10,
   "id": "ff979ea0",
   "metadata": {},
   "outputs": [],
   "source": [
    "res = torch.zeros((32, 5))\n",
    "for layer_id in range(32):\n",
    "    for idx, token_id in enumerate(select_id):\n",
    "        attention_mask[:, select_id] = True\n",
    "        if token_id in select_id:\n",
    "\n",
    "            attention_mask[:, token_id] = False\n",
    "        def modify_hidden_states(module, input, output):\n",
    "            output[0][:, select_id] = clean_output['hidden_states'][layer_id+1][:, select_id]\n",
    "            return output\n",
    "\n",
    "        h = model.model.layers[layer_id].register_forward_hook(modify_hidden_states)\n",
    "        patched_output = model(inputs_embeds=embeds, attention_mask=attention_mask, output_attentions=True, output_hidden_states=True)\n",
    "        h.remove()\n",
    "        patched_logit_diff = logits_diff(patched_output['hidden_states'][-1], model, glm_token, llm_token)\n",
    "        res[layer_id, idx] = patched_logit_diff.detach().cpu()\n",
    "\n",
    "diff = 1 - ((res - corrupted_logits_diff)/(clean_logits_diff - corrupted_logits_diff))"
   ]
  },
  {
   "cell_type": "code",
   "execution_count": 11,
   "id": "a8dfdbae",
   "metadata": {},
   "outputs": [],
   "source": [
    "import torch.nn.functional as F\n",
    "\n",
    "diff_clip = torch.clamp(diff, 0, 1)\n",
    "b = F.normalize(diff_clip, p=1, dim=1)"
   ]
  },
  {
   "cell_type": "code",
   "execution_count": 14,
   "id": "de03e435",
   "metadata": {},
   "outputs": [
    {
     "data": {
      "application/vnd.plotly.v1+json": {
       "config": {
        "plotlyServerURL": "https://plot.ly"
       },
       "data": [
        {
         "coloraxis": "coloraxis",
         "hovertemplate": "x: %{x}<br>y: %{y}<br>color: %{z}<extra></extra>",
         "name": "0",
         "type": "heatmap",
         "xaxis": "x",
         "yaxis": "y",
         "z": [
          [
           0.05106383562088013,
           0.13617020845413208,
           0.23829787969589233,
           0.24680852890014648,
           0.13617020845413208
          ],
          [
           0.05957448482513428,
           0.10212767124176025,
           0.0936170220375061,
           0.22127658128738403,
           0
          ],
          [
           0.306382954120636,
           0.3234042525291443,
           0.3574467897415161,
           0.4936169981956482,
           0.11914891004562378
          ],
          [
           0.17872339487075806,
           0.1872340440750122,
           0.33191490173339844,
           0.3404255509376526,
           0.14468085765838623
          ],
          [
           0.10212767124176025,
           0.1106383204460144,
           0.2978723645210266,
           0.2978723645210266,
           0.0765957236289978
          ],
          [
           0.04255318641662598,
           0.0936170220375061,
           0.306382954120636,
           0.23829787969589233,
           0.0170212984085083
          ],
          [
           0,
           0,
           0.26382976770401,
           0.2042553424835205,
           0.06808513402938843
          ],
          [
           0,
           0,
           0.21276593208312988,
           0.13617020845413208,
           0.04255318641662598
          ],
          [
           0,
           0,
           0.1872340440750122,
           0.1872340440750122,
           0.0936170220375061
          ],
          [
           0,
           0,
           0.23829787969589233,
           0.13617020845413208,
           0.034042537212371826
          ],
          [
           0,
           0,
           0.23829787969589233,
           0.2042553424835205,
           0.0936170220375061
          ],
          [
           0,
           0,
           0.3404255509376526,
           0.2978723645210266,
           0.12765955924987793
          ],
          [
           0,
           0,
           0.27234041690826416,
           0.28936171531677246,
           0.15319150686264038
          ],
          [
           0.0170212984085083,
           0.04255318641662598,
           0.44255316257476807,
           0.45957446098327637,
           0.19574469327926636
          ],
          [
           0.00851064920425415,
           0,
           0.38297873735427856,
           0.4510638117790222,
           0.2042553424835205
          ],
          [
           0.0170212984085083,
           0.034042537212371826,
           0.38297873735427856,
           0.4680851101875305,
           0.1872340440750122
          ],
          [
           0.034042537212371826,
           0.0936170220375061,
           0.3744680881500244,
           0.5617021322250366,
           0.19574469327926636
          ],
          [
           0.11914891004562378,
           0.1702127456665039,
           0.40851062536239624,
           0.6127659678459167,
           0.21276593208312988
          ],
          [
           0.19574469327926636,
           0.27234041690826416,
           0.5191489458084106,
           0.6468085050582886,
           0.2978723645210266
          ],
          [
           0.23829787969589233,
           0.3234042525291443,
           0.5787234306335449,
           0.6808511018753052,
           0.38297873735427856
          ],
          [
           0.3234042525291443,
           0.3744680881500244,
           0.7148935794830322,
           0.7319148778915405,
           0.40851062536239624
          ],
          [
           0.25531917810440063,
           0.4170212745666504,
           0.6468085050582886,
           0.6382979154586792,
           0.38297873735427856
          ],
          [
           0.3914893865585327,
           0.5446808338165283,
           0.7404255270957947,
           0.6808511018753052,
           0.45957446098327637
          ],
          [
           0.44255316257476807,
           0.5787234306335449,
           0.6808511018753052,
           0.7489361763000488,
           0.5021276473999023
          ],
          [
           0.4510638117790222,
           0.5106382966041565,
           0.7744680643081665,
           0.7659574747085571,
           0.52765953540802
          ],
          [
           0.3574467897415161,
           0.4510638117790222,
           0.6978723406791687,
           0.6808511018753052,
           0.36595743894577026
          ],
          [
           0.3914893865585327,
           0.5021276473999023,
           0.7234042882919312,
           0.6382979154586792,
           0.4936169981956482
          ],
          [
           0.6468085050582886,
           0.7063829898834229,
           0.7659574747085571,
           0.8127659559249878,
           0.6723403930664062
          ],
          [
           0.7914893627166748,
           0.7063829898834229,
           0.9872340559959412,
           0.9319149255752563,
           0.8297872543334961
          ],
          [
           0.7659574747085571,
           0.8382978439331055,
           0.9744681119918823,
           0.8936170339584351,
           0.8553191423416138
          ],
          [
           0.9446808695793152,
           0.9191489219665527,
           1,
           0.936170220375061,
           1
          ],
          [
           0.936170220375061,
           0.914893627166748,
           0.9106382727622986,
           0.9319149255752563,
           0.9276595711708069
          ]
         ]
        }
       ],
       "layout": {
        "coloraxis": {
         "cmid": 0,
         "colorbar": {
          "len": 250,
          "lenmode": "pixels",
          "thickness": 50,
          "thicknessmode": "pixels",
          "ticks": "outside",
          "title": {
           "text": ""
          },
          "y": 1,
          "yanchor": "top"
         },
         "colorscale": [
          [
           0,
           "rgb(103,0,31)"
          ],
          [
           0.1,
           "rgb(178,24,43)"
          ],
          [
           0.2,
           "rgb(214,96,77)"
          ],
          [
           0.3,
           "rgb(244,165,130)"
          ],
          [
           0.4,
           "rgb(253,219,199)"
          ],
          [
           0.5,
           "rgb(247,247,247)"
          ],
          [
           0.6,
           "rgb(209,229,240)"
          ],
          [
           0.7,
           "rgb(146,197,222)"
          ],
          [
           0.8,
           "rgb(67,147,195)"
          ],
          [
           0.9,
           "rgb(33,102,172)"
          ],
          [
           1,
           "rgb(5,48,97)"
          ]
         ]
        },
        "legend": {
         "x": -0.1
        },
        "showlegend": true,
        "template": {
         "data": {
          "bar": [
           {
            "error_x": {
             "color": "#2a3f5f"
            },
            "error_y": {
             "color": "#2a3f5f"
            },
            "marker": {
             "line": {
              "color": "#E5ECF6",
              "width": 0.5
             },
             "pattern": {
              "fillmode": "overlay",
              "size": 10,
              "solidity": 0.2
             }
            },
            "type": "bar"
           }
          ],
          "barpolar": [
           {
            "marker": {
             "line": {
              "color": "#E5ECF6",
              "width": 0.5
             },
             "pattern": {
              "fillmode": "overlay",
              "size": 10,
              "solidity": 0.2
             }
            },
            "type": "barpolar"
           }
          ],
          "carpet": [
           {
            "aaxis": {
             "endlinecolor": "#2a3f5f",
             "gridcolor": "white",
             "linecolor": "white",
             "minorgridcolor": "white",
             "startlinecolor": "#2a3f5f"
            },
            "baxis": {
             "endlinecolor": "#2a3f5f",
             "gridcolor": "white",
             "linecolor": "white",
             "minorgridcolor": "white",
             "startlinecolor": "#2a3f5f"
            },
            "type": "carpet"
           }
          ],
          "choropleth": [
           {
            "colorbar": {
             "outlinewidth": 0,
             "ticks": ""
            },
            "type": "choropleth"
           }
          ],
          "contour": [
           {
            "colorbar": {
             "outlinewidth": 0,
             "ticks": ""
            },
            "colorscale": [
             [
              0,
              "#0d0887"
             ],
             [
              0.1111111111111111,
              "#46039f"
             ],
             [
              0.2222222222222222,
              "#7201a8"
             ],
             [
              0.3333333333333333,
              "#9c179e"
             ],
             [
              0.4444444444444444,
              "#bd3786"
             ],
             [
              0.5555555555555556,
              "#d8576b"
             ],
             [
              0.6666666666666666,
              "#ed7953"
             ],
             [
              0.7777777777777778,
              "#fb9f3a"
             ],
             [
              0.8888888888888888,
              "#fdca26"
             ],
             [
              1,
              "#f0f921"
             ]
            ],
            "type": "contour"
           }
          ],
          "contourcarpet": [
           {
            "colorbar": {
             "outlinewidth": 0,
             "ticks": ""
            },
            "type": "contourcarpet"
           }
          ],
          "heatmap": [
           {
            "colorbar": {
             "outlinewidth": 0,
             "ticks": ""
            },
            "colorscale": [
             [
              0,
              "#0d0887"
             ],
             [
              0.1111111111111111,
              "#46039f"
             ],
             [
              0.2222222222222222,
              "#7201a8"
             ],
             [
              0.3333333333333333,
              "#9c179e"
             ],
             [
              0.4444444444444444,
              "#bd3786"
             ],
             [
              0.5555555555555556,
              "#d8576b"
             ],
             [
              0.6666666666666666,
              "#ed7953"
             ],
             [
              0.7777777777777778,
              "#fb9f3a"
             ],
             [
              0.8888888888888888,
              "#fdca26"
             ],
             [
              1,
              "#f0f921"
             ]
            ],
            "type": "heatmap"
           }
          ],
          "heatmapgl": [
           {
            "colorbar": {
             "outlinewidth": 0,
             "ticks": ""
            },
            "colorscale": [
             [
              0,
              "#0d0887"
             ],
             [
              0.1111111111111111,
              "#46039f"
             ],
             [
              0.2222222222222222,
              "#7201a8"
             ],
             [
              0.3333333333333333,
              "#9c179e"
             ],
             [
              0.4444444444444444,
              "#bd3786"
             ],
             [
              0.5555555555555556,
              "#d8576b"
             ],
             [
              0.6666666666666666,
              "#ed7953"
             ],
             [
              0.7777777777777778,
              "#fb9f3a"
             ],
             [
              0.8888888888888888,
              "#fdca26"
             ],
             [
              1,
              "#f0f921"
             ]
            ],
            "type": "heatmapgl"
           }
          ],
          "histogram": [
           {
            "marker": {
             "pattern": {
              "fillmode": "overlay",
              "size": 10,
              "solidity": 0.2
             }
            },
            "type": "histogram"
           }
          ],
          "histogram2d": [
           {
            "colorbar": {
             "outlinewidth": 0,
             "ticks": ""
            },
            "colorscale": [
             [
              0,
              "#0d0887"
             ],
             [
              0.1111111111111111,
              "#46039f"
             ],
             [
              0.2222222222222222,
              "#7201a8"
             ],
             [
              0.3333333333333333,
              "#9c179e"
             ],
             [
              0.4444444444444444,
              "#bd3786"
             ],
             [
              0.5555555555555556,
              "#d8576b"
             ],
             [
              0.6666666666666666,
              "#ed7953"
             ],
             [
              0.7777777777777778,
              "#fb9f3a"
             ],
             [
              0.8888888888888888,
              "#fdca26"
             ],
             [
              1,
              "#f0f921"
             ]
            ],
            "type": "histogram2d"
           }
          ],
          "histogram2dcontour": [
           {
            "colorbar": {
             "outlinewidth": 0,
             "ticks": ""
            },
            "colorscale": [
             [
              0,
              "#0d0887"
             ],
             [
              0.1111111111111111,
              "#46039f"
             ],
             [
              0.2222222222222222,
              "#7201a8"
             ],
             [
              0.3333333333333333,
              "#9c179e"
             ],
             [
              0.4444444444444444,
              "#bd3786"
             ],
             [
              0.5555555555555556,
              "#d8576b"
             ],
             [
              0.6666666666666666,
              "#ed7953"
             ],
             [
              0.7777777777777778,
              "#fb9f3a"
             ],
             [
              0.8888888888888888,
              "#fdca26"
             ],
             [
              1,
              "#f0f921"
             ]
            ],
            "type": "histogram2dcontour"
           }
          ],
          "mesh3d": [
           {
            "colorbar": {
             "outlinewidth": 0,
             "ticks": ""
            },
            "type": "mesh3d"
           }
          ],
          "parcoords": [
           {
            "line": {
             "colorbar": {
              "outlinewidth": 0,
              "ticks": ""
             }
            },
            "type": "parcoords"
           }
          ],
          "pie": [
           {
            "automargin": true,
            "type": "pie"
           }
          ],
          "scatter": [
           {
            "fillpattern": {
             "fillmode": "overlay",
             "size": 10,
             "solidity": 0.2
            },
            "type": "scatter"
           }
          ],
          "scatter3d": [
           {
            "line": {
             "colorbar": {
              "outlinewidth": 0,
              "ticks": ""
             }
            },
            "marker": {
             "colorbar": {
              "outlinewidth": 0,
              "ticks": ""
             }
            },
            "type": "scatter3d"
           }
          ],
          "scattercarpet": [
           {
            "marker": {
             "colorbar": {
              "outlinewidth": 0,
              "ticks": ""
             }
            },
            "type": "scattercarpet"
           }
          ],
          "scattergeo": [
           {
            "marker": {
             "colorbar": {
              "outlinewidth": 0,
              "ticks": ""
             }
            },
            "type": "scattergeo"
           }
          ],
          "scattergl": [
           {
            "marker": {
             "colorbar": {
              "outlinewidth": 0,
              "ticks": ""
             }
            },
            "type": "scattergl"
           }
          ],
          "scattermapbox": [
           {
            "marker": {
             "colorbar": {
              "outlinewidth": 0,
              "ticks": ""
             }
            },
            "type": "scattermapbox"
           }
          ],
          "scatterpolar": [
           {
            "marker": {
             "colorbar": {
              "outlinewidth": 0,
              "ticks": ""
             }
            },
            "type": "scatterpolar"
           }
          ],
          "scatterpolargl": [
           {
            "marker": {
             "colorbar": {
              "outlinewidth": 0,
              "ticks": ""
             }
            },
            "type": "scatterpolargl"
           }
          ],
          "scatterternary": [
           {
            "marker": {
             "colorbar": {
              "outlinewidth": 0,
              "ticks": ""
             }
            },
            "type": "scatterternary"
           }
          ],
          "surface": [
           {
            "colorbar": {
             "outlinewidth": 0,
             "ticks": ""
            },
            "colorscale": [
             [
              0,
              "#0d0887"
             ],
             [
              0.1111111111111111,
              "#46039f"
             ],
             [
              0.2222222222222222,
              "#7201a8"
             ],
             [
              0.3333333333333333,
              "#9c179e"
             ],
             [
              0.4444444444444444,
              "#bd3786"
             ],
             [
              0.5555555555555556,
              "#d8576b"
             ],
             [
              0.6666666666666666,
              "#ed7953"
             ],
             [
              0.7777777777777778,
              "#fb9f3a"
             ],
             [
              0.8888888888888888,
              "#fdca26"
             ],
             [
              1,
              "#f0f921"
             ]
            ],
            "type": "surface"
           }
          ],
          "table": [
           {
            "cells": {
             "fill": {
              "color": "#EBF0F8"
             },
             "line": {
              "color": "white"
             }
            },
            "header": {
             "fill": {
              "color": "#C8D4E3"
             },
             "line": {
              "color": "white"
             }
            },
            "type": "table"
           }
          ]
         },
         "layout": {
          "annotationdefaults": {
           "arrowcolor": "#2a3f5f",
           "arrowhead": 0,
           "arrowwidth": 1
          },
          "autotypenumbers": "strict",
          "coloraxis": {
           "colorbar": {
            "outlinewidth": 0,
            "ticks": ""
           }
          },
          "colorscale": {
           "diverging": [
            [
             0,
             "#8e0152"
            ],
            [
             0.1,
             "#c51b7d"
            ],
            [
             0.2,
             "#de77ae"
            ],
            [
             0.3,
             "#f1b6da"
            ],
            [
             0.4,
             "#fde0ef"
            ],
            [
             0.5,
             "#f7f7f7"
            ],
            [
             0.6,
             "#e6f5d0"
            ],
            [
             0.7,
             "#b8e186"
            ],
            [
             0.8,
             "#7fbc41"
            ],
            [
             0.9,
             "#4d9221"
            ],
            [
             1,
             "#276419"
            ]
           ],
           "sequential": [
            [
             0,
             "#0d0887"
            ],
            [
             0.1111111111111111,
             "#46039f"
            ],
            [
             0.2222222222222222,
             "#7201a8"
            ],
            [
             0.3333333333333333,
             "#9c179e"
            ],
            [
             0.4444444444444444,
             "#bd3786"
            ],
            [
             0.5555555555555556,
             "#d8576b"
            ],
            [
             0.6666666666666666,
             "#ed7953"
            ],
            [
             0.7777777777777778,
             "#fb9f3a"
            ],
            [
             0.8888888888888888,
             "#fdca26"
            ],
            [
             1,
             "#f0f921"
            ]
           ],
           "sequentialminus": [
            [
             0,
             "#0d0887"
            ],
            [
             0.1111111111111111,
             "#46039f"
            ],
            [
             0.2222222222222222,
             "#7201a8"
            ],
            [
             0.3333333333333333,
             "#9c179e"
            ],
            [
             0.4444444444444444,
             "#bd3786"
            ],
            [
             0.5555555555555556,
             "#d8576b"
            ],
            [
             0.6666666666666666,
             "#ed7953"
            ],
            [
             0.7777777777777778,
             "#fb9f3a"
            ],
            [
             0.8888888888888888,
             "#fdca26"
            ],
            [
             1,
             "#f0f921"
            ]
           ]
          },
          "colorway": [
           "#636efa",
           "#EF553B",
           "#00cc96",
           "#ab63fa",
           "#FFA15A",
           "#19d3f3",
           "#FF6692",
           "#B6E880",
           "#FF97FF",
           "#FECB52"
          ],
          "font": {
           "color": "#2a3f5f"
          },
          "geo": {
           "bgcolor": "white",
           "lakecolor": "white",
           "landcolor": "#E5ECF6",
           "showlakes": true,
           "showland": true,
           "subunitcolor": "white"
          },
          "hoverlabel": {
           "align": "left"
          },
          "hovermode": "closest",
          "mapbox": {
           "style": "light"
          },
          "paper_bgcolor": "white",
          "plot_bgcolor": "#E5ECF6",
          "polar": {
           "angularaxis": {
            "gridcolor": "white",
            "linecolor": "white",
            "ticks": ""
           },
           "bgcolor": "#E5ECF6",
           "radialaxis": {
            "gridcolor": "white",
            "linecolor": "white",
            "ticks": ""
           }
          },
          "scene": {
           "xaxis": {
            "backgroundcolor": "#E5ECF6",
            "gridcolor": "white",
            "gridwidth": 2,
            "linecolor": "white",
            "showbackground": true,
            "ticks": "",
            "zerolinecolor": "white"
           },
           "yaxis": {
            "backgroundcolor": "#E5ECF6",
            "gridcolor": "white",
            "gridwidth": 2,
            "linecolor": "white",
            "showbackground": true,
            "ticks": "",
            "zerolinecolor": "white"
           },
           "zaxis": {
            "backgroundcolor": "#E5ECF6",
            "gridcolor": "white",
            "gridwidth": 2,
            "linecolor": "white",
            "showbackground": true,
            "ticks": "",
            "zerolinecolor": "white"
           }
          },
          "shapedefaults": {
           "line": {
            "color": "#2a3f5f"
           }
          },
          "ternary": {
           "aaxis": {
            "gridcolor": "white",
            "linecolor": "white",
            "ticks": ""
           },
           "baxis": {
            "gridcolor": "white",
            "linecolor": "white",
            "ticks": ""
           },
           "bgcolor": "#E5ECF6",
           "caxis": {
            "gridcolor": "white",
            "linecolor": "white",
            "ticks": ""
           }
          },
          "title": {
           "x": 0.05
          },
          "xaxis": {
           "automargin": true,
           "gridcolor": "white",
           "linecolor": "white",
           "ticks": "",
           "title": {
            "standoff": 15
           },
           "zerolinecolor": "white",
           "zerolinewidth": 2
          },
          "yaxis": {
           "automargin": true,
           "gridcolor": "white",
           "linecolor": "white",
           "ticks": "",
           "title": {
            "standoff": 15
           },
           "zerolinecolor": "white",
           "zerolinewidth": 2
          }
         }
        },
        "title": {
         "text": "Effect of patching"
        },
        "width": 500,
        "xaxis": {
         "anchor": "y",
         "constrain": "domain",
         "domain": [
          0,
          1
         ],
         "range": [
          -0.5,
          4.5
         ],
         "scaleanchor": "y",
         "title": {
          "text": ""
         }
        },
        "yaxis": {
         "anchor": "x",
         "autorange": "reversed",
         "constrain": "domain",
         "domain": [
          0,
          1
         ],
         "title": {
          "text": ""
         }
        }
       }
      },
      "text/html": [
       "<div>                            <div id=\"156ee4d6-b313-414f-99bd-7a2f2e9fcfe7\" class=\"plotly-graph-div\" style=\"height:525px; width:500px;\"></div>            <script type=\"text/javascript\">                require([\"plotly\"], function(Plotly) {                    window.PLOTLYENV=window.PLOTLYENV || {};                                    if (document.getElementById(\"156ee4d6-b313-414f-99bd-7a2f2e9fcfe7\")) {                    Plotly.newPlot(                        \"156ee4d6-b313-414f-99bd-7a2f2e9fcfe7\",                        [{\"coloraxis\":\"coloraxis\",\"name\":\"0\",\"z\":[[0.05106383562088013,0.13617020845413208,0.23829787969589233,0.24680852890014648,0.13617020845413208],[0.05957448482513428,0.10212767124176025,0.0936170220375061,0.22127658128738403,0.0],[0.306382954120636,0.3234042525291443,0.3574467897415161,0.4936169981956482,0.11914891004562378],[0.17872339487075806,0.1872340440750122,0.33191490173339844,0.3404255509376526,0.14468085765838623],[0.10212767124176025,0.1106383204460144,0.2978723645210266,0.2978723645210266,0.0765957236289978],[0.04255318641662598,0.0936170220375061,0.306382954120636,0.23829787969589233,0.0170212984085083],[0.0,0.0,0.26382976770401,0.2042553424835205,0.06808513402938843],[0.0,0.0,0.21276593208312988,0.13617020845413208,0.04255318641662598],[0.0,0.0,0.1872340440750122,0.1872340440750122,0.0936170220375061],[0.0,0.0,0.23829787969589233,0.13617020845413208,0.034042537212371826],[0.0,0.0,0.23829787969589233,0.2042553424835205,0.0936170220375061],[0.0,0.0,0.3404255509376526,0.2978723645210266,0.12765955924987793],[0.0,0.0,0.27234041690826416,0.28936171531677246,0.15319150686264038],[0.0170212984085083,0.04255318641662598,0.44255316257476807,0.45957446098327637,0.19574469327926636],[0.00851064920425415,0.0,0.38297873735427856,0.4510638117790222,0.2042553424835205],[0.0170212984085083,0.034042537212371826,0.38297873735427856,0.4680851101875305,0.1872340440750122],[0.034042537212371826,0.0936170220375061,0.3744680881500244,0.5617021322250366,0.19574469327926636],[0.11914891004562378,0.1702127456665039,0.40851062536239624,0.6127659678459167,0.21276593208312988],[0.19574469327926636,0.27234041690826416,0.5191489458084106,0.6468085050582886,0.2978723645210266],[0.23829787969589233,0.3234042525291443,0.5787234306335449,0.6808511018753052,0.38297873735427856],[0.3234042525291443,0.3744680881500244,0.7148935794830322,0.7319148778915405,0.40851062536239624],[0.25531917810440063,0.4170212745666504,0.6468085050582886,0.6382979154586792,0.38297873735427856],[0.3914893865585327,0.5446808338165283,0.7404255270957947,0.6808511018753052,0.45957446098327637],[0.44255316257476807,0.5787234306335449,0.6808511018753052,0.7489361763000488,0.5021276473999023],[0.4510638117790222,0.5106382966041565,0.7744680643081665,0.7659574747085571,0.52765953540802],[0.3574467897415161,0.4510638117790222,0.6978723406791687,0.6808511018753052,0.36595743894577026],[0.3914893865585327,0.5021276473999023,0.7234042882919312,0.6382979154586792,0.4936169981956482],[0.6468085050582886,0.7063829898834229,0.7659574747085571,0.8127659559249878,0.6723403930664062],[0.7914893627166748,0.7063829898834229,0.9872340559959412,0.9319149255752563,0.8297872543334961],[0.7659574747085571,0.8382978439331055,0.9744681119918823,0.8936170339584351,0.8553191423416138],[0.9446808695793152,0.9191489219665527,1.0,0.936170220375061,1.0],[0.936170220375061,0.914893627166748,0.9106382727622986,0.9319149255752563,0.9276595711708069]],\"type\":\"heatmap\",\"xaxis\":\"x\",\"yaxis\":\"y\",\"hovertemplate\":\"x: %{x}\\u003cbr\\u003ey: %{y}\\u003cbr\\u003ecolor: %{z}\\u003cextra\\u003e\\u003c\\u002fextra\\u003e\"}],                        {\"template\":{\"data\":{\"histogram2dcontour\":[{\"type\":\"histogram2dcontour\",\"colorbar\":{\"outlinewidth\":0,\"ticks\":\"\"},\"colorscale\":[[0.0,\"#0d0887\"],[0.1111111111111111,\"#46039f\"],[0.2222222222222222,\"#7201a8\"],[0.3333333333333333,\"#9c179e\"],[0.4444444444444444,\"#bd3786\"],[0.5555555555555556,\"#d8576b\"],[0.6666666666666666,\"#ed7953\"],[0.7777777777777778,\"#fb9f3a\"],[0.8888888888888888,\"#fdca26\"],[1.0,\"#f0f921\"]]}],\"choropleth\":[{\"type\":\"choropleth\",\"colorbar\":{\"outlinewidth\":0,\"ticks\":\"\"}}],\"histogram2d\":[{\"type\":\"histogram2d\",\"colorbar\":{\"outlinewidth\":0,\"ticks\":\"\"},\"colorscale\":[[0.0,\"#0d0887\"],[0.1111111111111111,\"#46039f\"],[0.2222222222222222,\"#7201a8\"],[0.3333333333333333,\"#9c179e\"],[0.4444444444444444,\"#bd3786\"],[0.5555555555555556,\"#d8576b\"],[0.6666666666666666,\"#ed7953\"],[0.7777777777777778,\"#fb9f3a\"],[0.8888888888888888,\"#fdca26\"],[1.0,\"#f0f921\"]]}],\"heatmap\":[{\"type\":\"heatmap\",\"colorbar\":{\"outlinewidth\":0,\"ticks\":\"\"},\"colorscale\":[[0.0,\"#0d0887\"],[0.1111111111111111,\"#46039f\"],[0.2222222222222222,\"#7201a8\"],[0.3333333333333333,\"#9c179e\"],[0.4444444444444444,\"#bd3786\"],[0.5555555555555556,\"#d8576b\"],[0.6666666666666666,\"#ed7953\"],[0.7777777777777778,\"#fb9f3a\"],[0.8888888888888888,\"#fdca26\"],[1.0,\"#f0f921\"]]}],\"heatmapgl\":[{\"type\":\"heatmapgl\",\"colorbar\":{\"outlinewidth\":0,\"ticks\":\"\"},\"colorscale\":[[0.0,\"#0d0887\"],[0.1111111111111111,\"#46039f\"],[0.2222222222222222,\"#7201a8\"],[0.3333333333333333,\"#9c179e\"],[0.4444444444444444,\"#bd3786\"],[0.5555555555555556,\"#d8576b\"],[0.6666666666666666,\"#ed7953\"],[0.7777777777777778,\"#fb9f3a\"],[0.8888888888888888,\"#fdca26\"],[1.0,\"#f0f921\"]]}],\"contourcarpet\":[{\"type\":\"contourcarpet\",\"colorbar\":{\"outlinewidth\":0,\"ticks\":\"\"}}],\"contour\":[{\"type\":\"contour\",\"colorbar\":{\"outlinewidth\":0,\"ticks\":\"\"},\"colorscale\":[[0.0,\"#0d0887\"],[0.1111111111111111,\"#46039f\"],[0.2222222222222222,\"#7201a8\"],[0.3333333333333333,\"#9c179e\"],[0.4444444444444444,\"#bd3786\"],[0.5555555555555556,\"#d8576b\"],[0.6666666666666666,\"#ed7953\"],[0.7777777777777778,\"#fb9f3a\"],[0.8888888888888888,\"#fdca26\"],[1.0,\"#f0f921\"]]}],\"surface\":[{\"type\":\"surface\",\"colorbar\":{\"outlinewidth\":0,\"ticks\":\"\"},\"colorscale\":[[0.0,\"#0d0887\"],[0.1111111111111111,\"#46039f\"],[0.2222222222222222,\"#7201a8\"],[0.3333333333333333,\"#9c179e\"],[0.4444444444444444,\"#bd3786\"],[0.5555555555555556,\"#d8576b\"],[0.6666666666666666,\"#ed7953\"],[0.7777777777777778,\"#fb9f3a\"],[0.8888888888888888,\"#fdca26\"],[1.0,\"#f0f921\"]]}],\"mesh3d\":[{\"type\":\"mesh3d\",\"colorbar\":{\"outlinewidth\":0,\"ticks\":\"\"}}],\"scatter\":[{\"fillpattern\":{\"fillmode\":\"overlay\",\"size\":10,\"solidity\":0.2},\"type\":\"scatter\"}],\"parcoords\":[{\"type\":\"parcoords\",\"line\":{\"colorbar\":{\"outlinewidth\":0,\"ticks\":\"\"}}}],\"scatterpolargl\":[{\"type\":\"scatterpolargl\",\"marker\":{\"colorbar\":{\"outlinewidth\":0,\"ticks\":\"\"}}}],\"bar\":[{\"error_x\":{\"color\":\"#2a3f5f\"},\"error_y\":{\"color\":\"#2a3f5f\"},\"marker\":{\"line\":{\"color\":\"#E5ECF6\",\"width\":0.5},\"pattern\":{\"fillmode\":\"overlay\",\"size\":10,\"solidity\":0.2}},\"type\":\"bar\"}],\"scattergeo\":[{\"type\":\"scattergeo\",\"marker\":{\"colorbar\":{\"outlinewidth\":0,\"ticks\":\"\"}}}],\"scatterpolar\":[{\"type\":\"scatterpolar\",\"marker\":{\"colorbar\":{\"outlinewidth\":0,\"ticks\":\"\"}}}],\"histogram\":[{\"marker\":{\"pattern\":{\"fillmode\":\"overlay\",\"size\":10,\"solidity\":0.2}},\"type\":\"histogram\"}],\"scattergl\":[{\"type\":\"scattergl\",\"marker\":{\"colorbar\":{\"outlinewidth\":0,\"ticks\":\"\"}}}],\"scatter3d\":[{\"type\":\"scatter3d\",\"line\":{\"colorbar\":{\"outlinewidth\":0,\"ticks\":\"\"}},\"marker\":{\"colorbar\":{\"outlinewidth\":0,\"ticks\":\"\"}}}],\"scattermapbox\":[{\"type\":\"scattermapbox\",\"marker\":{\"colorbar\":{\"outlinewidth\":0,\"ticks\":\"\"}}}],\"scatterternary\":[{\"type\":\"scatterternary\",\"marker\":{\"colorbar\":{\"outlinewidth\":0,\"ticks\":\"\"}}}],\"scattercarpet\":[{\"type\":\"scattercarpet\",\"marker\":{\"colorbar\":{\"outlinewidth\":0,\"ticks\":\"\"}}}],\"carpet\":[{\"aaxis\":{\"endlinecolor\":\"#2a3f5f\",\"gridcolor\":\"white\",\"linecolor\":\"white\",\"minorgridcolor\":\"white\",\"startlinecolor\":\"#2a3f5f\"},\"baxis\":{\"endlinecolor\":\"#2a3f5f\",\"gridcolor\":\"white\",\"linecolor\":\"white\",\"minorgridcolor\":\"white\",\"startlinecolor\":\"#2a3f5f\"},\"type\":\"carpet\"}],\"table\":[{\"cells\":{\"fill\":{\"color\":\"#EBF0F8\"},\"line\":{\"color\":\"white\"}},\"header\":{\"fill\":{\"color\":\"#C8D4E3\"},\"line\":{\"color\":\"white\"}},\"type\":\"table\"}],\"barpolar\":[{\"marker\":{\"line\":{\"color\":\"#E5ECF6\",\"width\":0.5},\"pattern\":{\"fillmode\":\"overlay\",\"size\":10,\"solidity\":0.2}},\"type\":\"barpolar\"}],\"pie\":[{\"automargin\":true,\"type\":\"pie\"}]},\"layout\":{\"autotypenumbers\":\"strict\",\"colorway\":[\"#636efa\",\"#EF553B\",\"#00cc96\",\"#ab63fa\",\"#FFA15A\",\"#19d3f3\",\"#FF6692\",\"#B6E880\",\"#FF97FF\",\"#FECB52\"],\"font\":{\"color\":\"#2a3f5f\"},\"hovermode\":\"closest\",\"hoverlabel\":{\"align\":\"left\"},\"paper_bgcolor\":\"white\",\"plot_bgcolor\":\"#E5ECF6\",\"polar\":{\"bgcolor\":\"#E5ECF6\",\"angularaxis\":{\"gridcolor\":\"white\",\"linecolor\":\"white\",\"ticks\":\"\"},\"radialaxis\":{\"gridcolor\":\"white\",\"linecolor\":\"white\",\"ticks\":\"\"}},\"ternary\":{\"bgcolor\":\"#E5ECF6\",\"aaxis\":{\"gridcolor\":\"white\",\"linecolor\":\"white\",\"ticks\":\"\"},\"baxis\":{\"gridcolor\":\"white\",\"linecolor\":\"white\",\"ticks\":\"\"},\"caxis\":{\"gridcolor\":\"white\",\"linecolor\":\"white\",\"ticks\":\"\"}},\"coloraxis\":{\"colorbar\":{\"outlinewidth\":0,\"ticks\":\"\"}},\"colorscale\":{\"sequential\":[[0.0,\"#0d0887\"],[0.1111111111111111,\"#46039f\"],[0.2222222222222222,\"#7201a8\"],[0.3333333333333333,\"#9c179e\"],[0.4444444444444444,\"#bd3786\"],[0.5555555555555556,\"#d8576b\"],[0.6666666666666666,\"#ed7953\"],[0.7777777777777778,\"#fb9f3a\"],[0.8888888888888888,\"#fdca26\"],[1.0,\"#f0f921\"]],\"sequentialminus\":[[0.0,\"#0d0887\"],[0.1111111111111111,\"#46039f\"],[0.2222222222222222,\"#7201a8\"],[0.3333333333333333,\"#9c179e\"],[0.4444444444444444,\"#bd3786\"],[0.5555555555555556,\"#d8576b\"],[0.6666666666666666,\"#ed7953\"],[0.7777777777777778,\"#fb9f3a\"],[0.8888888888888888,\"#fdca26\"],[1.0,\"#f0f921\"]],\"diverging\":[[0,\"#8e0152\"],[0.1,\"#c51b7d\"],[0.2,\"#de77ae\"],[0.3,\"#f1b6da\"],[0.4,\"#fde0ef\"],[0.5,\"#f7f7f7\"],[0.6,\"#e6f5d0\"],[0.7,\"#b8e186\"],[0.8,\"#7fbc41\"],[0.9,\"#4d9221\"],[1,\"#276419\"]]},\"xaxis\":{\"gridcolor\":\"white\",\"linecolor\":\"white\",\"ticks\":\"\",\"title\":{\"standoff\":15},\"zerolinecolor\":\"white\",\"automargin\":true,\"zerolinewidth\":2},\"yaxis\":{\"gridcolor\":\"white\",\"linecolor\":\"white\",\"ticks\":\"\",\"title\":{\"standoff\":15},\"zerolinecolor\":\"white\",\"automargin\":true,\"zerolinewidth\":2},\"scene\":{\"xaxis\":{\"backgroundcolor\":\"#E5ECF6\",\"gridcolor\":\"white\",\"linecolor\":\"white\",\"showbackground\":true,\"ticks\":\"\",\"zerolinecolor\":\"white\",\"gridwidth\":2},\"yaxis\":{\"backgroundcolor\":\"#E5ECF6\",\"gridcolor\":\"white\",\"linecolor\":\"white\",\"showbackground\":true,\"ticks\":\"\",\"zerolinecolor\":\"white\",\"gridwidth\":2},\"zaxis\":{\"backgroundcolor\":\"#E5ECF6\",\"gridcolor\":\"white\",\"linecolor\":\"white\",\"showbackground\":true,\"ticks\":\"\",\"zerolinecolor\":\"white\",\"gridwidth\":2}},\"shapedefaults\":{\"line\":{\"color\":\"#2a3f5f\"}},\"annotationdefaults\":{\"arrowcolor\":\"#2a3f5f\",\"arrowhead\":0,\"arrowwidth\":1},\"geo\":{\"bgcolor\":\"white\",\"landcolor\":\"#E5ECF6\",\"subunitcolor\":\"white\",\"showland\":true,\"showlakes\":true,\"lakecolor\":\"white\"},\"title\":{\"x\":0.05},\"mapbox\":{\"style\":\"light\"}}},\"xaxis\":{\"anchor\":\"y\",\"domain\":[0.0,1.0],\"scaleanchor\":\"y\",\"constrain\":\"domain\",\"title\":{\"text\":\"\"},\"range\":[-0.5,4.5]},\"yaxis\":{\"anchor\":\"x\",\"domain\":[0.0,1.0],\"autorange\":\"reversed\",\"constrain\":\"domain\",\"title\":{\"text\":\"\"}},\"coloraxis\":{\"colorscale\":[[0.0,\"rgb(103,0,31)\"],[0.1,\"rgb(178,24,43)\"],[0.2,\"rgb(214,96,77)\"],[0.3,\"rgb(244,165,130)\"],[0.4,\"rgb(253,219,199)\"],[0.5,\"rgb(247,247,247)\"],[0.6,\"rgb(209,229,240)\"],[0.7,\"rgb(146,197,222)\"],[0.8,\"rgb(67,147,195)\"],[0.9,\"rgb(33,102,172)\"],[1.0,\"rgb(5,48,97)\"]],\"cmid\":0,\"colorbar\":{\"title\":{\"text\":\"\"},\"thicknessmode\":\"pixels\",\"thickness\":50,\"lenmode\":\"pixels\",\"len\":250,\"yanchor\":\"top\",\"y\":1,\"ticks\":\"outside\"}},\"title\":{\"text\":\"Effect of patching\"},\"width\":500,\"legend\":{\"x\":-0.1},\"showlegend\":true},                        {\"responsive\": true}                    ).then(function(){\n",
       "                            \n",
       "var gd = document.getElementById('156ee4d6-b313-414f-99bd-7a2f2e9fcfe7');\n",
       "var x = new MutationObserver(function (mutations, observer) {{\n",
       "        var display = window.getComputedStyle(gd).display;\n",
       "        if (!display || display === 'none') {{\n",
       "            console.log([gd, 'removed!']);\n",
       "            Plotly.purge(gd);\n",
       "            observer.disconnect();\n",
       "        }}\n",
       "}});\n",
       "\n",
       "// Listen for the removal of the full notebook cells\n",
       "var notebookContainer = gd.closest('#notebook-container');\n",
       "if (notebookContainer) {{\n",
       "    x.observe(notebookContainer, {childList: true});\n",
       "}}\n",
       "\n",
       "// Listen for the clearing of the current output cell\n",
       "var outputEl = gd.closest('.output');\n",
       "if (outputEl) {{\n",
       "    x.observe(outputEl, {childList: true});\n",
       "}}\n",
       "\n",
       "                        })                };                });            </script>        </div>"
      ]
     },
     "metadata": {},
     "output_type": "display_data"
    }
   ],
   "source": [
    "import plotly.express as px\n",
    "\n",
    "title = \"Effect of patching\"\n",
    "fig = px.imshow(\n",
    "    diff_clip,\n",
    "    title=title if title else \"\",\n",
    "    color_continuous_scale=\"RdBu\",\n",
    "    color_continuous_midpoint=0,\n",
    ")\n",
    "\n",
    "fig.update_layout(\n",
    "    width = 500,\n",
    "    coloraxis_colorbar=dict(\n",
    "        title=\"\",\n",
    "        thicknessmode=\"pixels\",\n",
    "        thickness=50,\n",
    "        lenmode=\"pixels\",\n",
    "        len=250,\n",
    "        yanchor=\"top\",\n",
    "        y=1,\n",
    "        ticks=\"outside\",\n",
    "    ),\n",
    ")\n",
    "fig.update_layout(\n",
    "    yaxis_title=\"\",\n",
    "    xaxis_title=\"\",\n",
    "    xaxis_range=[-0.5, diff.shape[1] - 0.5],\n",
    "    showlegend=True,\n",
    "    legend=dict(x=-0.1),\n",
    ")\n",
    "fig.show()"
   ]
  },
  {
   "cell_type": "code",
   "execution_count": 38,
   "id": "ec258b01",
   "metadata": {},
   "outputs": [
    {
     "name": "stdout",
     "output_type": "stream",
     "text": [
      "Type 1 diabetes.\n"
     ]
    }
   ],
   "source": [
    "# eval\n",
    "# special = [\"<Node 1>\", \"<Node 2>\", \"<Node 3>\", \"<Node 4>\", \"<Node 5>\"]\n",
    "# select_id = [i for i in range(len(tokenizer.tokenize(final_prompt))) if tokenizer.tokenize(final_prompt)[i] in special]\n",
    "# print(select_id)\n",
    "# attention_mask[:, select_id] = False\n"
   ]
  },
  {
   "cell_type": "code",
   "execution_count": 37,
   "id": "79846f8d",
   "metadata": {},
   "outputs": [
    {
     "ename": "ValueError",
     "evalue": "Expected input batch_size (97) to match target batch_size (104).",
     "output_type": "error",
     "traceback": [
      "\u001b[0;31m---------------------------------------------------------------------------\u001b[0m",
      "\u001b[0;31mValueError\u001b[0m                                Traceback (most recent call last)",
      "Cell \u001b[0;32mIn[37], line 8\u001b[0m\n\u001b[1;32m      1\u001b[0m \u001b[38;5;66;03m# train\u001b[39;00m\n\u001b[1;32m      2\u001b[0m embeds \u001b[38;5;241m=\u001b[39m first_model(\n\u001b[1;32m      3\u001b[0m     input_ids\u001b[38;5;241m=\u001b[39minput_ids\u001b[38;5;241m.\u001b[39mto(device),\n\u001b[1;32m      4\u001b[0m     is_node\u001b[38;5;241m=\u001b[39mis_node\u001b[38;5;241m.\u001b[39mto(device),\n\u001b[1;32m      5\u001b[0m     graph\u001b[38;5;241m=\u001b[39mgraph\u001b[38;5;241m.\u001b[39mto(device),\n\u001b[1;32m      6\u001b[0m     use_llm\u001b[38;5;241m=\u001b[39m\u001b[38;5;28;01mTrue\u001b[39;00m\n\u001b[1;32m      7\u001b[0m )\n\u001b[0;32m----> 8\u001b[0m output \u001b[38;5;241m=\u001b[39m \u001b[43mmodel\u001b[49m\u001b[43m(\u001b[49m\u001b[43minputs_embeds\u001b[49m\u001b[38;5;241;43m=\u001b[39;49m\u001b[43membeds\u001b[49m\u001b[43m,\u001b[49m\u001b[43m \u001b[49m\u001b[43mlabels\u001b[49m\u001b[38;5;241;43m=\u001b[39;49m\u001b[43mtargets\u001b[49m\u001b[43m,\u001b[49m\u001b[43m \u001b[49m\u001b[43mattention_mask\u001b[49m\u001b[38;5;241;43m=\u001b[39;49m\u001b[43mattention_mask\u001b[49m\u001b[43m,\u001b[49m\u001b[43m \u001b[49m\u001b[43moutput_attentions\u001b[49m\u001b[38;5;241;43m=\u001b[39;49m\u001b[38;5;28;43;01mTrue\u001b[39;49;00m\u001b[43m,\u001b[49m\u001b[43m \u001b[49m\u001b[43moutput_hidden_states\u001b[49m\u001b[38;5;241;43m=\u001b[39;49m\u001b[38;5;28;43;01mTrue\u001b[39;49;00m\u001b[43m)\u001b[49m\n\u001b[1;32m      9\u001b[0m \u001b[38;5;28mprint\u001b[39m(output[\u001b[38;5;124m'\u001b[39m\u001b[38;5;124mattentions\u001b[39m\u001b[38;5;124m'\u001b[39m][\u001b[38;5;241m0\u001b[39m]\u001b[38;5;241m.\u001b[39mshape)\n\u001b[1;32m     10\u001b[0m \u001b[38;5;28mprint\u001b[39m(output[\u001b[38;5;124m'\u001b[39m\u001b[38;5;124mhidden_states\u001b[39m\u001b[38;5;124m'\u001b[39m][\u001b[38;5;241m-\u001b[39m\u001b[38;5;241m1\u001b[39m]\u001b[38;5;241m.\u001b[39mshape)\n",
      "File \u001b[0;32m/home/zuographgroup/conda/conda_envs/glm/lib/python3.9/site-packages/torch/nn/modules/module.py:1194\u001b[0m, in \u001b[0;36mModule._call_impl\u001b[0;34m(self, *input, **kwargs)\u001b[0m\n\u001b[1;32m   1190\u001b[0m \u001b[38;5;66;03m# If we don't have any hooks, we want to skip the rest of the logic in\u001b[39;00m\n\u001b[1;32m   1191\u001b[0m \u001b[38;5;66;03m# this function, and just call forward.\u001b[39;00m\n\u001b[1;32m   1192\u001b[0m \u001b[38;5;28;01mif\u001b[39;00m \u001b[38;5;129;01mnot\u001b[39;00m (\u001b[38;5;28mself\u001b[39m\u001b[38;5;241m.\u001b[39m_backward_hooks \u001b[38;5;129;01mor\u001b[39;00m \u001b[38;5;28mself\u001b[39m\u001b[38;5;241m.\u001b[39m_forward_hooks \u001b[38;5;129;01mor\u001b[39;00m \u001b[38;5;28mself\u001b[39m\u001b[38;5;241m.\u001b[39m_forward_pre_hooks \u001b[38;5;129;01mor\u001b[39;00m _global_backward_hooks\n\u001b[1;32m   1193\u001b[0m         \u001b[38;5;129;01mor\u001b[39;00m _global_forward_hooks \u001b[38;5;129;01mor\u001b[39;00m _global_forward_pre_hooks):\n\u001b[0;32m-> 1194\u001b[0m     \u001b[38;5;28;01mreturn\u001b[39;00m \u001b[43mforward_call\u001b[49m\u001b[43m(\u001b[49m\u001b[38;5;241;43m*\u001b[39;49m\u001b[38;5;28;43minput\u001b[39;49m\u001b[43m,\u001b[49m\u001b[43m \u001b[49m\u001b[38;5;241;43m*\u001b[39;49m\u001b[38;5;241;43m*\u001b[39;49m\u001b[43mkwargs\u001b[49m\u001b[43m)\u001b[49m\n\u001b[1;32m   1195\u001b[0m \u001b[38;5;66;03m# Do not call functions when jit is used\u001b[39;00m\n\u001b[1;32m   1196\u001b[0m full_backward_hooks, non_full_backward_hooks \u001b[38;5;241m=\u001b[39m [], []\n",
      "File \u001b[0;32m/home/zuographgroup/conda/conda_envs/glm/lib/python3.9/site-packages/accelerate/hooks.py:165\u001b[0m, in \u001b[0;36madd_hook_to_module.<locals>.new_forward\u001b[0;34m(*args, **kwargs)\u001b[0m\n\u001b[1;32m    163\u001b[0m         output \u001b[38;5;241m=\u001b[39m old_forward(\u001b[38;5;241m*\u001b[39margs, \u001b[38;5;241m*\u001b[39m\u001b[38;5;241m*\u001b[39mkwargs)\n\u001b[1;32m    164\u001b[0m \u001b[38;5;28;01melse\u001b[39;00m:\n\u001b[0;32m--> 165\u001b[0m     output \u001b[38;5;241m=\u001b[39m \u001b[43mold_forward\u001b[49m\u001b[43m(\u001b[49m\u001b[38;5;241;43m*\u001b[39;49m\u001b[43margs\u001b[49m\u001b[43m,\u001b[49m\u001b[43m \u001b[49m\u001b[38;5;241;43m*\u001b[39;49m\u001b[38;5;241;43m*\u001b[39;49m\u001b[43mkwargs\u001b[49m\u001b[43m)\u001b[49m\n\u001b[1;32m    166\u001b[0m \u001b[38;5;28;01mreturn\u001b[39;00m module\u001b[38;5;241m.\u001b[39m_hf_hook\u001b[38;5;241m.\u001b[39mpost_forward(module, output)\n",
      "File \u001b[0;32m/home/zuographgroup/GLM/model/language_model.py:58\u001b[0m, in \u001b[0;36mInstructGLM.forward\u001b[0;34m(self, input_ids, attention_mask, position_ids, past_key_values, inputs_embeds, labels, use_cache, output_attentions, output_hidden_states, return_dict)\u001b[0m\n\u001b[1;32m     56\u001b[0m     \u001b[38;5;66;03m# Enable model parallelism\u001b[39;00m\n\u001b[1;32m     57\u001b[0m     shift_labels \u001b[38;5;241m=\u001b[39m shift_labels\u001b[38;5;241m.\u001b[39mto(shift_logits\u001b[38;5;241m.\u001b[39mdevice)\n\u001b[0;32m---> 58\u001b[0m     loss \u001b[38;5;241m=\u001b[39m \u001b[38;5;28;43mself\u001b[39;49m\u001b[38;5;241;43m.\u001b[39;49m\u001b[43mloss_fct\u001b[49m\u001b[43m(\u001b[49m\u001b[43mshift_logits\u001b[49m\u001b[43m,\u001b[49m\u001b[43m \u001b[49m\u001b[43mshift_labels\u001b[49m\u001b[43m)\u001b[49m\n\u001b[1;32m     60\u001b[0m \u001b[38;5;28;01mif\u001b[39;00m \u001b[38;5;129;01mnot\u001b[39;00m return_dict:\n\u001b[1;32m     61\u001b[0m     output \u001b[38;5;241m=\u001b[39m (logits,) \u001b[38;5;241m+\u001b[39m outputs[\u001b[38;5;241m1\u001b[39m:]\n",
      "File \u001b[0;32m/home/zuographgroup/conda/conda_envs/glm/lib/python3.9/site-packages/torch/nn/modules/module.py:1194\u001b[0m, in \u001b[0;36mModule._call_impl\u001b[0;34m(self, *input, **kwargs)\u001b[0m\n\u001b[1;32m   1190\u001b[0m \u001b[38;5;66;03m# If we don't have any hooks, we want to skip the rest of the logic in\u001b[39;00m\n\u001b[1;32m   1191\u001b[0m \u001b[38;5;66;03m# this function, and just call forward.\u001b[39;00m\n\u001b[1;32m   1192\u001b[0m \u001b[38;5;28;01mif\u001b[39;00m \u001b[38;5;129;01mnot\u001b[39;00m (\u001b[38;5;28mself\u001b[39m\u001b[38;5;241m.\u001b[39m_backward_hooks \u001b[38;5;129;01mor\u001b[39;00m \u001b[38;5;28mself\u001b[39m\u001b[38;5;241m.\u001b[39m_forward_hooks \u001b[38;5;129;01mor\u001b[39;00m \u001b[38;5;28mself\u001b[39m\u001b[38;5;241m.\u001b[39m_forward_pre_hooks \u001b[38;5;129;01mor\u001b[39;00m _global_backward_hooks\n\u001b[1;32m   1193\u001b[0m         \u001b[38;5;129;01mor\u001b[39;00m _global_forward_hooks \u001b[38;5;129;01mor\u001b[39;00m _global_forward_pre_hooks):\n\u001b[0;32m-> 1194\u001b[0m     \u001b[38;5;28;01mreturn\u001b[39;00m \u001b[43mforward_call\u001b[49m\u001b[43m(\u001b[49m\u001b[38;5;241;43m*\u001b[39;49m\u001b[38;5;28;43minput\u001b[39;49m\u001b[43m,\u001b[49m\u001b[43m \u001b[49m\u001b[38;5;241;43m*\u001b[39;49m\u001b[38;5;241;43m*\u001b[39;49m\u001b[43mkwargs\u001b[49m\u001b[43m)\u001b[49m\n\u001b[1;32m   1195\u001b[0m \u001b[38;5;66;03m# Do not call functions when jit is used\u001b[39;00m\n\u001b[1;32m   1196\u001b[0m full_backward_hooks, non_full_backward_hooks \u001b[38;5;241m=\u001b[39m [], []\n",
      "File \u001b[0;32m/home/zuographgroup/conda/conda_envs/glm/lib/python3.9/site-packages/torch/nn/modules/loss.py:1174\u001b[0m, in \u001b[0;36mCrossEntropyLoss.forward\u001b[0;34m(self, input, target)\u001b[0m\n\u001b[1;32m   1173\u001b[0m \u001b[38;5;28;01mdef\u001b[39;00m \u001b[38;5;21mforward\u001b[39m(\u001b[38;5;28mself\u001b[39m, \u001b[38;5;28minput\u001b[39m: Tensor, target: Tensor) \u001b[38;5;241m-\u001b[39m\u001b[38;5;241m>\u001b[39m Tensor:\n\u001b[0;32m-> 1174\u001b[0m     \u001b[38;5;28;01mreturn\u001b[39;00m \u001b[43mF\u001b[49m\u001b[38;5;241;43m.\u001b[39;49m\u001b[43mcross_entropy\u001b[49m\u001b[43m(\u001b[49m\u001b[38;5;28;43minput\u001b[39;49m\u001b[43m,\u001b[49m\u001b[43m \u001b[49m\u001b[43mtarget\u001b[49m\u001b[43m,\u001b[49m\u001b[43m \u001b[49m\u001b[43mweight\u001b[49m\u001b[38;5;241;43m=\u001b[39;49m\u001b[38;5;28;43mself\u001b[39;49m\u001b[38;5;241;43m.\u001b[39;49m\u001b[43mweight\u001b[49m\u001b[43m,\u001b[49m\n\u001b[1;32m   1175\u001b[0m \u001b[43m                           \u001b[49m\u001b[43mignore_index\u001b[49m\u001b[38;5;241;43m=\u001b[39;49m\u001b[38;5;28;43mself\u001b[39;49m\u001b[38;5;241;43m.\u001b[39;49m\u001b[43mignore_index\u001b[49m\u001b[43m,\u001b[49m\u001b[43m \u001b[49m\u001b[43mreduction\u001b[49m\u001b[38;5;241;43m=\u001b[39;49m\u001b[38;5;28;43mself\u001b[39;49m\u001b[38;5;241;43m.\u001b[39;49m\u001b[43mreduction\u001b[49m\u001b[43m,\u001b[49m\n\u001b[1;32m   1176\u001b[0m \u001b[43m                           \u001b[49m\u001b[43mlabel_smoothing\u001b[49m\u001b[38;5;241;43m=\u001b[39;49m\u001b[38;5;28;43mself\u001b[39;49m\u001b[38;5;241;43m.\u001b[39;49m\u001b[43mlabel_smoothing\u001b[49m\u001b[43m)\u001b[49m\n",
      "File \u001b[0;32m/home/zuographgroup/conda/conda_envs/glm/lib/python3.9/site-packages/torch/nn/functional.py:3026\u001b[0m, in \u001b[0;36mcross_entropy\u001b[0;34m(input, target, weight, size_average, ignore_index, reduce, reduction, label_smoothing)\u001b[0m\n\u001b[1;32m   3024\u001b[0m \u001b[38;5;28;01mif\u001b[39;00m size_average \u001b[38;5;129;01mis\u001b[39;00m \u001b[38;5;129;01mnot\u001b[39;00m \u001b[38;5;28;01mNone\u001b[39;00m \u001b[38;5;129;01mor\u001b[39;00m reduce \u001b[38;5;129;01mis\u001b[39;00m \u001b[38;5;129;01mnot\u001b[39;00m \u001b[38;5;28;01mNone\u001b[39;00m:\n\u001b[1;32m   3025\u001b[0m     reduction \u001b[38;5;241m=\u001b[39m _Reduction\u001b[38;5;241m.\u001b[39mlegacy_get_string(size_average, reduce)\n\u001b[0;32m-> 3026\u001b[0m \u001b[38;5;28;01mreturn\u001b[39;00m \u001b[43mtorch\u001b[49m\u001b[38;5;241;43m.\u001b[39;49m\u001b[43m_C\u001b[49m\u001b[38;5;241;43m.\u001b[39;49m\u001b[43m_nn\u001b[49m\u001b[38;5;241;43m.\u001b[39;49m\u001b[43mcross_entropy_loss\u001b[49m\u001b[43m(\u001b[49m\u001b[38;5;28;43minput\u001b[39;49m\u001b[43m,\u001b[49m\u001b[43m \u001b[49m\u001b[43mtarget\u001b[49m\u001b[43m,\u001b[49m\u001b[43m \u001b[49m\u001b[43mweight\u001b[49m\u001b[43m,\u001b[49m\u001b[43m \u001b[49m\u001b[43m_Reduction\u001b[49m\u001b[38;5;241;43m.\u001b[39;49m\u001b[43mget_enum\u001b[49m\u001b[43m(\u001b[49m\u001b[43mreduction\u001b[49m\u001b[43m)\u001b[49m\u001b[43m,\u001b[49m\u001b[43m \u001b[49m\u001b[43mignore_index\u001b[49m\u001b[43m,\u001b[49m\u001b[43m \u001b[49m\u001b[43mlabel_smoothing\u001b[49m\u001b[43m)\u001b[49m\n",
      "\u001b[0;31mValueError\u001b[0m: Expected input batch_size (97) to match target batch_size (104)."
     ]
    }
   ],
   "source": [
    "# train\n",
    "embeds = first_model(\n",
    "    input_ids=input_ids.to(device),\n",
    "    is_node=is_node.to(device),\n",
    "    graph=graph.to(device),\n",
    "    use_llm=True\n",
    ")\n",
    "output = model(inputs_embeds=embeds, labels=targets, attention_mask=attention_mask, output_attentions=True, output_hidden_states=True)\n",
    "print(output['attentions'][0].shape)\n",
    "print(output['hidden_states'][-1].shape)\n",
    "print(output['loss'])"
   ]
  },
  {
   "cell_type": "code",
   "execution_count": 90,
   "id": "89c2334c",
   "metadata": {},
   "outputs": [
    {
     "name": "stdout",
     "output_type": "stream",
     "text": [
      "5167\n",
      "▁Type\n"
     ]
    },
    {
     "data": {
      "image/png": "[encoded data removed]",
      "text/plain": [
       "<Figure size 640x480 with 1 Axes>"
      ]
     },
     "metadata": {},
     "output_type": "display_data"
    }
   ],
   "source": [
    "# logits of each layer\n",
    "logits_ls = []\n",
    "ans_token = tokenizer.encode(glm_out)[1]\n",
    "print(ans_token)\n",
    "print(tokenizer.convert_ids_to_tokens(ans_token))\n",
    "for i in range(1, 33):\n",
    "    layer_pred = model.lm_head(output['hidden_states'][i]).softmax(dim=-1)\n",
    "    logits_ls.append(layer_pred[:, -target_len-2, ans_token].detach().cpu().to(torch.float32).numpy())\n",
    "plt.plot(np.arange(32), logits_ls)\n",
    "plt.show()"
   ]
  },
  {
   "cell_type": "code",
   "execution_count": 44,
   "id": "c17d23d4",
   "metadata": {},
   "outputs": [
    {
     "name": "stdout",
     "output_type": "stream",
     "text": [
      "['<s>', '▁US', 'ER', ':', '▁Given', '▁a', '▁representation', '▁of', '▁a', '▁paper', '<Node 1>', '<Node 2>', '<Node 3>', '<Node 4>', '<Node 5>', '▁,', '▁with', '▁the', '▁following', '▁information', ':', '▁', '<0x0A>', 'Title', ':', '▁Effect', 's', '▁of', '▁', '1', '5', '-', 'month', '▁al', 'd', 'ose', '▁re', 'duct', 'ase', '▁in', 'hib', 'ition', '▁with', '▁fid', 'ar', 'est', 'at', '▁on', '▁the', '▁experimental', '▁di', 'ab', 'etic', '▁ne', 'urop', 'ath', 'y', '▁in', '▁r', 'ats', '.', '▁', '<0x0A>', '▁Question', ':', '▁Which', '▁di', 'ab', 'etes', '▁does', '▁this', '▁paper', '▁involve', '?', '▁Please', '▁directly', '▁give', '▁the', '▁most', '▁likely', '▁answer', '▁from', '▁the', '▁following', '▁di', 'ab', 'etes', ':', '▁\"', 'Type', '▁', '1', '▁di', 'ab', 'etes', '\",', '▁\"', 'Type', '▁', '2', '▁di', 'ab', 'etes', '\",', '▁\"', 'Ex', 'periment', 'ally', '▁induced', '▁di', 'ab', 'etes', '\".', '▁A', 'SS', 'IST', 'ANT', ':', '▁Ex', 'periment', 'ally', '▁induced', '▁di', 'ab', 'etes', '.', '</s>']\n"
     ]
    }
   ],
   "source": [
    "attn = output['attentions']\n",
    "tokens = tokenizer.encode(final_prompt)\n",
    "tokens = tokenizer.convert_ids_to_tokens(tokens)\n",
    "print(tokens)\n",
    "html = head_view(attn, tokens, include_layers=[0, 31], heads=[0], html_action='return')\n",
    "# html = model_view(attn, tokens, include_layers=[0, 31], html_action='return')\n",
    "with open(\"./head_view.html\", \"w\") as file:\n",
    "    file.write(html.data)"
   ]
  },
  {
   "cell_type": "code",
   "execution_count": 41,
   "id": "e6bfe316",
   "metadata": {},
   "outputs": [
    {
     "name": "stdout",
     "output_type": "stream",
     "text": [
      "['<s>', '▁US', 'ER', ':', '▁Given', '▁a', '▁representation', '▁of', '▁a', '▁paper', 'Node 1', 'Node 2', 'Node 3', 'Node 4', 'Node 5', '▁,', '▁with', '▁the', '▁following', '▁information', ':', '▁', '<0x0A>', 'Title', ':', '▁Cy', 'top', 'rote', 'ction', '▁of', '▁pan', 'cre', 'atic', '▁is', 'lets', '▁before', '▁and', '▁soon', '▁after', '▁trans', 'plant', 'ation', '▁by', '▁gene', '▁transfer', '▁of', '▁the', '▁anti', '-', 'ap', 'opt', 'otic', '▁B', 'cl', '-', '', '▁gene', '.', '▁', '<0x0A>', '▁Question', ':', '▁Which', '▁di', 'ab', 'etes', '▁does', '▁this', '▁paper', '▁involve', '?', '▁Please', '▁directly', '▁give', '▁the', '▁most', '▁likely', '▁answer', '▁from', '▁the', '▁following', '▁di', 'ab', 'etes', ':', '▁\"', 'Type', '▁', '', '▁di', 'ab', 'etes', '\",', '▁\"', 'Type', '▁', '', '▁di', 'ab', 'etes', '\",', '▁\"', 'Ex', 'periment', 'ally', '▁induced', '▁di', 'ab', 'etes', '\".', '▁A', 'SS', 'IST', 'ANT', ':', '▁Ex', 'periment', 'ally', '▁induced', '▁di', 'ab', 'etes', '</s>']\n"
     ]
    }
   ],
   "source": [
    "layer_num = 30\n",
    "layer_attn = output['attentions'][layer_num][0]\n",
    "tokens = tokenizer.encode(final_prompt)\n",
    "tokens = tokenizer.convert_ids_to_tokens(tokens)\n",
    "vis_tokens = [token[1:-1] if token in add_tokens else token for token in tokens]\n",
    "print(vis_tokens)\n",
    "vis = attention_patterns(tokens=vis_tokens, attention=layer_attn)\n",
    "vis_path = f\"./llm_vis_{idx}_{layer_num}.html\"\n",
    "with open(vis_path, \"w\") as f:\n",
    "    f.write(vis._repr_html_())"
   ]
  },
  {
   "cell_type": "code",
   "execution_count": 93,
   "id": "7f6776c9",
   "metadata": {},
   "outputs": [
    {
     "name": "stdout",
     "output_type": "stream",
     "text": [
      "torch.Size([121])\n",
      "[10, 11, 12, 13, 14] 23 59 110\n"
     ]
    }
   ],
   "source": [
    "layer_num = 31\n",
    "attn = output['attentions'][layer_num][0].mean(dim=0)\n",
    "# attn = output['attentions'][layer_num][0][24]\n",
    "scale = attn.sum(dim=0)\n",
    "tokens = tokenizer.encode(final_prompt)\n",
    "tokens = tokenizer.convert_ids_to_tokens(tokens)\n",
    "select_id = []\n",
    "info_id = 0\n",
    "query_id = 0\n",
    "answer_id = 0\n",
    "for i in range(len(tokens)):\n",
    "    if tokens[i] in ['<Node 1>', '<Node 2>', '<Node 3>', '<Node 4>', '<Node 5>']:\n",
    "        select_id.append(i)\n",
    "    if tokens[i] == '▁Question':\n",
    "        query_id = i\n",
    "    elif tokens[i] == 'Title' and tokens[i-1] == '<0x0A>':\n",
    "        info_id = i\n",
    "    elif tokens[i] == 'IST' and tokens[i-1] == 'SS':\n",
    "        answer_id = i-1\n",
    "select_attn = attn[-target_len-1, :]\n",
    "print(select_attn.shape)\n",
    "print(select_id, info_id, query_id, answer_id)"
   ]
  },
  {
   "cell_type": "code",
   "execution_count": 94,
   "id": "15303da4",
   "metadata": {},
   "outputs": [
    {
     "data": {
      "image/png": "[encoded data removed]",
      "text/plain": [
       "<Figure size 640x480 with 1 Axes>"
      ]
     },
     "metadata": {},
     "output_type": "display_data"
    }
   ],
   "source": [
    "scale_np = scale.detach().cpu().to(torch.float32).numpy()\n",
    "y = select_attn.detach().cpu().to(torch.float32).numpy()\n",
    "x = np.arange(y.shape[0])\n",
    "y_max = np.array([y.max() for _ in range(y.shape[0])])\n",
    "\n",
    "y_mean = np.array([y[select_id].sum(), y[info_id:query_id].sum(), y[query_id:answer_id].sum()])\n",
    "# plt.plot(x, y, label=f'node {i}')\n",
    "plt.bar(np.arange(3), y_mean)\n",
    "\n",
    "# plt.fill_between(x[:info_id], y_max[:info_id], 0, facecolor = \"lightgreen\")\n",
    "# plt.fill_between(x[info_id:query_id], y_max[info_id:query_id], 0, facecolor = \"skyblue\")\n",
    "# plt.fill_between(x[query_id:], y_max[query_id:], 0, facecolor = \"lightgray\")\n",
    "plt.show()"
   ]
  },
  {
   "cell_type": "code",
   "execution_count": 63,
   "id": "eee9b842",
   "metadata": {},
   "outputs": [
    {
     "ename": "IndexError",
     "evalue": "too many indices for array: array is 1-dimensional, but 2 were indexed",
     "output_type": "error",
     "traceback": [
      "\u001b[0;31m---------------------------------------------------------------------------\u001b[0m",
      "\u001b[0;31mIndexError\u001b[0m                                Traceback (most recent call last)",
      "Cell \u001b[0;32mIn[63], line 5\u001b[0m\n\u001b[1;32m      2\u001b[0m offset \u001b[38;5;241m=\u001b[39m [\u001b[38;5;241m-\u001b[39m width\u001b[38;5;241m*\u001b[39m\u001b[38;5;241m2\u001b[39m, \u001b[38;5;241m-\u001b[39m width\u001b[38;5;241m+\u001b[39m\u001b[38;5;241m0.01\u001b[39m, \u001b[38;5;241m0.02\u001b[39m, width\u001b[38;5;241m+\u001b[39m \u001b[38;5;241m0.03\u001b[39m, width\u001b[38;5;241m*\u001b[39m\u001b[38;5;241m2\u001b[39m \u001b[38;5;241m+\u001b[39m \u001b[38;5;241m0.04\u001b[39m]\n\u001b[1;32m      4\u001b[0m \u001b[38;5;28;01mfor\u001b[39;00m i \u001b[38;5;129;01min\u001b[39;00m \u001b[38;5;28mrange\u001b[39m(\u001b[38;5;241m5\u001b[39m):\n\u001b[0;32m----> 5\u001b[0m     y_sq \u001b[38;5;241m=\u001b[39m np\u001b[38;5;241m.\u001b[39marray([\u001b[43my\u001b[49m\u001b[43m[\u001b[49m\u001b[43m:\u001b[49m\u001b[43minfo_id\u001b[49m\u001b[43m,\u001b[49m\u001b[43m \u001b[49m\u001b[43mi\u001b[49m\u001b[43m]\u001b[49m\u001b[38;5;241m.\u001b[39mmean(), y[info_id:query_id, i]\u001b[38;5;241m.\u001b[39mmean(), y[query_id:answer_id, i]\u001b[38;5;241m.\u001b[39mmean(), y[answer_id:, i]\u001b[38;5;241m.\u001b[39mmean()])\n\u001b[1;32m      6\u001b[0m     \u001b[38;5;66;03m# y_sq = np.array([(y[:info_id, i]/scale_np[select_id[i]]).mean(), (y[info_id:query_id, i]/scale_np[select_id[i]]).mean(),\u001b[39;00m\n\u001b[1;32m      7\u001b[0m     \u001b[38;5;66;03m# (y[query_id:answer_id, i]/scale_np[select_id[i]]).mean(), (y[answer_id:, i]/scale_np[select_id[i]]).mean()])\u001b[39;00m\n\u001b[1;32m      8\u001b[0m     plt\u001b[38;5;241m.\u001b[39mbar(np\u001b[38;5;241m.\u001b[39marange(\u001b[38;5;241m4\u001b[39m)\u001b[38;5;241m+\u001b[39moffset[i], y_sq, label\u001b[38;5;241m=\u001b[39m\u001b[38;5;124mf\u001b[39m\u001b[38;5;124m\"\u001b[39m\u001b[38;5;124mnode \u001b[39m\u001b[38;5;132;01m{\u001b[39;00mi\u001b[38;5;132;01m}\u001b[39;00m\u001b[38;5;124m\"\u001b[39m, width\u001b[38;5;241m=\u001b[39mwidth)\n",
      "\u001b[0;31mIndexError\u001b[0m: too many indices for array: array is 1-dimensional, but 2 were indexed"
     ]
    }
   ],
   "source": [
    "width = 0.1  # 柱状图的宽度，可以根据自己的需求和审美来改\n",
    "offset = [- width*2, - width+0.01, 0.02, width+ 0.03, width*2 + 0.04]\n",
    "\n",
    "for i in range(5):\n",
    "    y_sq = np.array([y[:info_id, i].mean(), y[info_id:query_id, i].mean(), y[query_id:answer_id, i].mean(), y[answer_id:, i].mean()])\n",
    "    # y_sq = np.array([(y[:info_id, i]/scale_np[select_id[i]]).mean(), (y[info_id:query_id, i]/scale_np[select_id[i]]).mean(),\n",
    "    # (y[query_id:answer_id, i]/scale_np[select_id[i]]).mean(), (y[answer_id:, i]/scale_np[select_id[i]]).mean()])\n",
    "    plt.bar(np.arange(4)+offset[i], y_sq, label=f\"node {i}\", width=width)\n",
    "plt.legend()\n",
    "plt.show()"
   ]
  },
  {
   "cell_type": "code",
   "execution_count": 14,
   "id": "bb82ec4a",
   "metadata": {},
   "outputs": [
    {
     "data": {
      "image/png": "[encoded data removed]",
      "text/plain": [
       "<Figure size 640x480 with 1 Axes>"
      ]
     },
     "metadata": {},
     "output_type": "display_data"
    }
   ],
   "source": [
    "node_attn_ls = []\n",
    "for i in range(32):\n",
    "    layer_attn = output['attentions'][i][0].mean(dim=0)\n",
    "    node_attn = layer_attn[:, select_id].mean(dim=0)\n",
    "    node_attn_ls.append(node_attn)\n",
    "node_attn_ls = torch.stack(node_attn_ls, dim=0).detach().cpu().to(torch.float32).numpy()\n",
    "for i in range(5):\n",
    "    plt.plot(np.arange(32), node_attn_ls[:, i], label=f\"node {i}\")\n",
    "plt.legend()\n",
    "plt.show()\n"
   ]
  },
  {
   "cell_type": "code",
   "execution_count": null,
   "id": "98fa6059",
   "metadata": {},
   "outputs": [],
   "source": []
  }
 ],
 "metadata": {
  "kernelspec": {
   "display_name": "glm",
   "language": "python",
   "name": "glm"
  },
  "language_info": {
   "codemirror_mode": {
    "name": "ipython",
    "version": 3
   },
   "file_extension": ".py",
   "mimetype": "text/x-python",
   "name": "python",
   "nbconvert_exporter": "python",
   "pygments_lexer": "ipython3",
   "version": "3.9.18"
  }
 },
 "nbformat": 4,
 "nbformat_minor": 5
}
